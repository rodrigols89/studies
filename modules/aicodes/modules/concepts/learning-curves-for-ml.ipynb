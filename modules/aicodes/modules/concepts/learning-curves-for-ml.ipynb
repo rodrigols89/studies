{
 "cells": [
  {
   "cell_type": "markdown",
   "id": "7127ea11",
   "metadata": {},
   "source": [
    "# Learning Curves para Machine Learning"
   ]
  },
  {
   "cell_type": "markdown",
   "id": "fec7c6ef",
   "metadata": {},
   "source": [
    "# 01 - O trade-off viés-variância\n",
    "\n",
    "Antes de cair de cabeça nós estudos sobre **Learning Curves (ou Curvas de Aprendizado)** nós precisamos esclarecer algumas coisas primeiro. Principalmente, **O trade-off viés-variância**.\n",
    "\n",
    "Inicialmente, o que vocês tem que ter em mente é que:\n",
    "\n",
    "> A medida que aumenta a *complexidade* de um modelo o **vies/bias** e **variância** vão se distanciando inversamente.\n",
    "\n",
    "Para ficar mais claro vamos analisar a imagem (gráfico) abaixo:\n",
    "\n",
    "![img](images/overfitting-underfitting-03.png)  \n",
    "\n",
    " - **Quanto MAIOR A COMPLEXIDADE do modelo (eixo-x), ou seja, mais parâmetros (features) são adicionados:**\n",
    "   - Maior é o Erro da Variância;\n",
    "   - Menor é o Erro do Viés/Bias.\n",
    " - **Quanto MENOR A COMPLEXIDADE do modelo (eixo-x), ou seja, menos parâmetros (features) são adicionados:**\n",
    "   - Menor é o Erro de Variância;\n",
    "   - Maior é o Erro de Viés/Bias.\n",
    " - **O erro total (Total Error) independente da Complexidade do modelo vai iniciar e terminar lá em cima, porém, ele não é constante**:\n",
    "   - Vejam que ele começa lá em cima > vai caindo > sobe novamente - Por isso, não é constante\n",
    " - **O melhor a se fazer é encontrarmos o equilíbrio entre os dois erros e o erro total:**\n",
    "   - A linha tracejada demonstra o equilíbrio (Optimum Model Complexity) entre os dois erros e o erro total e é lá onde queremos chegar.\n",
    "\n",
    "**NOTE:**  \n",
    "Olhando para a imagem e as observações acima fica claro que existe um **trade-off** entre o **viés/bias** e a **variância** e nós queremos chegar no valor mínimo possível dos dois erros simultaneamente."
   ]
  },
  {
   "cell_type": "markdown",
   "id": "85d46167",
   "metadata": {},
   "source": [
    "---"
   ]
  },
  {
   "cell_type": "markdown",
   "id": "0880c0bc",
   "metadata": {},
   "source": [
    "# 02 - Introdução a Learning Curves (ou Curvas de Aprendizado)\n",
    "\n",
    "Para entender como funcionam as **Learning Curves (ou Curvas de Aprendizado)** vamos seguir com a seguinte analogia:\n",
    "\n",
    " - **Digamos que temos alguns dados e os dividimos em um conjunto de treinamento e um conjunto de validação:**\n",
    "   - Pegamos uma única instância (isso mesmo, uma!) do conjunto de treinamento e a usamos para estimar um modelo;\n",
    "   - Em seguida, medimos o erro do modelo no conjunto de validação em relação essa única instância de treinamento.\n",
    "\n",
    "Algo parecido com isso:\n",
    "\n",
    "![img](images/lc-01.png)  \n",
    "\n",
    " - **Erro no conjunto de treinamento:**\n",
    "   - O erro na instância de treinamento será 0 (zero), pois é muito fácil ajustar perfeitamente um único ponto de dados.\n",
    " - **Erro no conjunto de validação:**\n",
    "   - Porém, o erro no conjunto de validação, no entanto, foi muito grande;\n",
    "   - Isso ocorre porque o modelo é construído (treinado) em torno de uma única instância e quase certamente não será capaz de generalizar com precisão em dados que não foram vistos antes.\n",
    "\n",
    "Agora digamos que em vez de uma instância de treinamento, pegamos 10 (dez) e repetimos as medidas de erro, algo parecido com isso:\n",
    "\n",
    "![img](images/lc-02.png)  \n",
    "\n",
    " - **Erro no conjunto de treinamento:**\n",
    "   - Agora temos uma situação onde os dados não se ajustam perfeitamente como antes.\n",
    " - **Erro no conjunto de validação:**\n",
    "   - Porém, o erro nos dados de validação ainda é muito grande, ou seja, o conjunto de treinamento não aprendeu o suficiente para generalizar em dados que nunca viu antes.\n",
    "\n",
    "Ok, agora vamos aumentar o número de instâncias de treinamento para 80, algo parecido com isso:\n",
    "\n",
    "![img](images/lc-03.png)  \n",
    "\n",
    " - **Erro no conjunto de treinamento:**\n",
    "   - Vejam que quanto mais dados nós passamos para o modelo aprender mais aumenta o erro do conjunto de treinamento.\n",
    " - **Erro no conjunto de validação:**\n",
    "   - Porém, o erro nos dados de validação diminuem.\n",
    "\n",
    "**Então, e se pegamos cem, quinhentos, mil, até usarmos todo o nosso conjunto de treinamento?**  \n",
    "As pontuações de erro variam mais ou menos à medida que alteramos o conjunto de treinamento. Assim, temos duas pontuações de erro para monitorar:\n",
    "\n",
    " - Uma para o conjunto de treinamento;\n",
    " - E outra para os conjuntos de validação.\n",
    "\n",
    "**NOTE:**  \n",
    "Se traçarmos a evolução das duas pontuações de erro à medida que os conjuntos de treinamento mudam, acabamos com duas curvas. Estas curvas são chamadas de **Learning Curves (ou Curvas de Aprendizado)**.\n",
    "\n",
    "> Em poucas palavras, uma **Learning Curves (ou Curvas de Aprendizado)** mostra como o erro muda à medida que o tamanho do conjunto de treinamento aumenta.\n",
    "\n",
    "Se tivéssemos plotado **Learning Curves (ou Curvas de Aprendizado)** para os conjuntos de treinamento e validação dos exemplos acima nós teríamos seguintes gráficos:\n",
    "\n",
    "![img](images/learning_curves.webp)  \n",
    "\n",
    " - **Erro no conjunto de treinamento:**\n",
    "   - A medida que aumenta as instâncias do conjunto de treinamento, aumenta o erro do mesmo.\n",
    " - **Erro no conjunto de validação:**\n",
    "   - Porém, a medida que aumenta as instâncias do conjunto de treinamento diminui o erro do conjunto de validação.\n",
    "\n",
    "**NOTE:**  \n",
    "As **Learning Curves (ou Curvas de Aprendizado)** nos dão a oportunidade de diagnosticar **variância** e **viés/bias** em modelos de *aprendizado supervisionado*."
   ]
  },
  {
   "cell_type": "markdown",
   "id": "a0ef9d2b",
   "metadata": {},
   "source": [
    "---"
   ]
  },
  {
   "cell_type": "markdown",
   "id": "cea9c5db",
   "metadata": {},
   "source": [
    "# 03 - Learning Curves na Prática com Scikit-Learn"
   ]
  },
  {
   "cell_type": "markdown",
   "id": "72f079b1",
   "metadata": {},
   "source": [
    "## 03.1 - Escolhendo  e entendendo o Problema\n",
    "\n",
    "As **Learning Curves (ou Curvas de Aprendizado)** traçadas acima são idealizadas para fins de ensino. Na prática, no entanto, elas geralmente parecem significativamente diferentes. Então, vamos levar a discussão para um cenário prático usando alguns dados do mundo real.\n",
    "\n",
    "Para entender na prática como funcionam às **Learning Curves (ou Curvas de Aprendizado)** tentaremos construir:\n",
    "\n",
    "> **Modelo de regressão que prevejam a produção horária de energia elétrica de uma usina.**\n",
    "\n",
    "**NOTE:**  \n",
    "Vamos utilizar o conjunto de dados [Combined Cycle Power Plant Data Set](https://archive.ics.uci.edu/ml/datasets/Combined+Cycle+Power+Plant) vêm dos pesquisadores turcos **Pınar Tüfekci** e **Heysem Kaya**.\n",
    "\n",
    "**Resumo do problema:**  \n",
    "O conjunto de dados contém *9.568 pontos de dados (amostras)* coletados de uma Usina de Ciclo Combinado ao longo de 6 anos (2006-2011), quando a usina foi configurada para trabalhar com carga total.\n",
    "\n",
    "**Informações do atributo:**  \n",
    " - Os recursos consistem em variáveis ​​ambientais médias por hora\n",
    "   - Temperatura (T) na faixa de 1,81°C e 37,11°C,\n",
    "   - Pressão ambiente (AP) na faixa de 992,89-1033,30 milibar,\n",
    "   - Umidade Relativa (RH) na faixa de 25,56% a 100,16 %\n",
    "   - Vácuo de Exaustão (V) na faixa 25,36-81,56 cm Hg\n",
    "   - Produção de energia elétrica horária líquida (EP) 420,26-495,76 MW\n",
    "\n",
    "Agora que já entendemos o básico sobre o problema, vamos pegar o conjunto de dados com a função **read_excel()** da biblioteca Pandas:"
   ]
  },
  {
   "cell_type": "code",
   "execution_count": 1,
   "id": "71f27a96",
   "metadata": {},
   "outputs": [
    {
     "name": "stdout",
     "output_type": "stream",
     "text": [
      "<class 'pandas.core.frame.DataFrame'>\n",
      "RangeIndex: 9568 entries, 0 to 9567\n",
      "Data columns (total 5 columns):\n",
      " #   Column  Non-Null Count  Dtype  \n",
      "---  ------  --------------  -----  \n",
      " 0   AT      9568 non-null   float64\n",
      " 1   V       9568 non-null   float64\n",
      " 2   AP      9568 non-null   float64\n",
      " 3   RH      9568 non-null   float64\n",
      " 4   PE      9568 non-null   float64\n",
      "dtypes: float64(5)\n",
      "memory usage: 373.9 KB\n"
     ]
    },
    {
     "data": {
      "text/html": [
       "<div>\n",
       "<style scoped>\n",
       "    .dataframe tbody tr th:only-of-type {\n",
       "        vertical-align: middle;\n",
       "    }\n",
       "\n",
       "    .dataframe tbody tr th {\n",
       "        vertical-align: top;\n",
       "    }\n",
       "\n",
       "    .dataframe thead th {\n",
       "        text-align: right;\n",
       "    }\n",
       "</style>\n",
       "<table border=\"1\" class=\"dataframe\">\n",
       "  <thead>\n",
       "    <tr style=\"text-align: right;\">\n",
       "      <th></th>\n",
       "      <th>AT</th>\n",
       "      <th>V</th>\n",
       "      <th>AP</th>\n",
       "      <th>RH</th>\n",
       "      <th>PE</th>\n",
       "    </tr>\n",
       "  </thead>\n",
       "  <tbody>\n",
       "    <tr>\n",
       "      <th>0</th>\n",
       "      <td>14.96</td>\n",
       "      <td>41.76</td>\n",
       "      <td>1024.07</td>\n",
       "      <td>73.17</td>\n",
       "      <td>463.26</td>\n",
       "    </tr>\n",
       "    <tr>\n",
       "      <th>1</th>\n",
       "      <td>25.18</td>\n",
       "      <td>62.96</td>\n",
       "      <td>1020.04</td>\n",
       "      <td>59.08</td>\n",
       "      <td>444.37</td>\n",
       "    </tr>\n",
       "    <tr>\n",
       "      <th>2</th>\n",
       "      <td>5.11</td>\n",
       "      <td>39.40</td>\n",
       "      <td>1012.16</td>\n",
       "      <td>92.14</td>\n",
       "      <td>488.56</td>\n",
       "    </tr>\n",
       "    <tr>\n",
       "      <th>3</th>\n",
       "      <td>20.86</td>\n",
       "      <td>57.32</td>\n",
       "      <td>1010.24</td>\n",
       "      <td>76.64</td>\n",
       "      <td>446.48</td>\n",
       "    </tr>\n",
       "    <tr>\n",
       "      <th>4</th>\n",
       "      <td>10.82</td>\n",
       "      <td>37.50</td>\n",
       "      <td>1009.23</td>\n",
       "      <td>96.62</td>\n",
       "      <td>473.90</td>\n",
       "    </tr>\n",
       "  </tbody>\n",
       "</table>\n",
       "</div>"
      ],
      "text/plain": [
       "      AT      V       AP     RH      PE\n",
       "0  14.96  41.76  1024.07  73.17  463.26\n",
       "1  25.18  62.96  1020.04  59.08  444.37\n",
       "2   5.11  39.40  1012.16  92.14  488.56\n",
       "3  20.86  57.32  1010.24  76.64  446.48\n",
       "4  10.82  37.50  1009.23  96.62  473.90"
      ]
     },
     "execution_count": 1,
     "metadata": {},
     "output_type": "execute_result"
    }
   ],
   "source": [
    "import pandas as pd\n",
    "electricity = pd.read_excel('data/Folds5x2_pp.xlsx')\n",
    "electricity.info()\n",
    "electricity.head()"
   ]
  },
  {
   "cell_type": "markdown",
   "id": "37e73513",
   "metadata": {},
   "source": [
    "**Observações do problema:**  \n",
    " - A coluna (feature) **PE** acima é a variável de destino (target) e descreve a saída horária líquida de energia elétrica.\n",
    " - Todas as outras variáveis são características potenciais, e os valores para cada uma são, na verdade, médias horárias (não valores líquidos, como para **PE**).\n",
    " - A eletricidade é gerada por:\n",
    "   - turbinas a gás;\n",
    "   - turbinas a vapor;\n",
    "   - E geradores de vapor de recuperação de calor.\n",
    " - De acordo com a documentação do conjunto de dados:\n",
    "   - O nível de vácuo tem efeito nas turbinas a vapor;\n",
    "   - Enquanto as outras três variáveis afetam as turbinas a gás.\n",
    "\n",
    "Consequentemente, usaremos todas as colunas (features) de recursos em nossos modelos de regressão. Nesta etapa, normalmente deixamos de lado um conjunto de teste, exploramos os dados de treinamento minuciosamente, removemos quaisquer discrepâncias, medimos correlações etc.\n",
    "\n",
    "**NOTE:**  \n",
    "Para fins de ensino, no entanto, vamos supor que isso já foi feito e pular direto para gerar algumas curvas de aprendizado. Antes de começarmos, vale a pena notar que não há valores ausentes. Além disso, os números não são dimensionados, mas evitaremos o uso de modelos que tenham problemas com dados não dimensionados."
   ]
  },
  {
   "cell_type": "markdown",
   "id": "1fd89f44",
   "metadata": {},
   "source": [
    "---"
   ]
  },
  {
   "cell_type": "markdown",
   "id": "c3240c5b",
   "metadata": {},
   "source": [
    "## 03.2 - Decidindo os tamanhos dos conjuntos de treinamento\n",
    "\n",
    "Vamos primeiro decidir quais tamanhos dos conjuntos de treinamento queremos usar para gerar as curvas de aprendizado:\n",
    "\n",
    " - O valor mínimo é 1;\n",
    " - O máximo é dado pelo número de instâncias no conjunto de treinamento.\n",
    "   - Nosso conjunto de treinamento possui 9.568 instâncias, portanto, o valor máximo é 9.568.\n",
    " - No entanto, ainda não deixamos de lado um conjunto de validação. Faremos isso usando uma proporção de **80:20**:\n",
    "   - Terminando com um conjunto de treinamento de 7.654 instâncias (80%);\n",
    "   - E um conjunto de validação de 1.914 instâncias (20%).\n",
    " - Dado que nosso conjunto de treinamento terá 7654 instâncias, o valor máximo que podemos usar para gerar nossas curvas de aprendizado é 7654.\n",
    "\n",
    "Para o nosso exemplo usaremos os seguintes 6 tamanhos:"
   ]
  },
  {
   "cell_type": "code",
   "execution_count": 2,
   "id": "f3dbee22",
   "metadata": {},
   "outputs": [],
   "source": [
    "train_sizes = [1, 100, 500, 2000, 5000, 7654]"
   ]
  },
  {
   "cell_type": "markdown",
   "id": "dd4cf940",
   "metadata": {},
   "source": [
    "**Algumas observações aqui são:**  \n",
    " - Uma coisa importante a se ter em mente é que para cada tamanho especificado um novo modelo é treinado.\n",
    " - Para economizar tempo de execução do código, é uma boa prática limitar-se a **5** a **10 tamanhos de treinamento**."
   ]
  },
  {
   "cell_type": "markdown",
   "id": "426e1b1a",
   "metadata": {},
   "source": [
    "---"
   ]
  },
  {
   "cell_type": "markdown",
   "id": "3e77f0d9",
   "metadata": {},
   "source": [
    "## 03.2 - Utilizando a função learning_curve() da biblioteca scikit-learn\n",
    "\n",
    "Ótimo, agora que já definimos os tamanhos para os conjuntos de treinamento vamos aprender sobre a função **learning_curve()** da biblioteca *scikit-learn*, responsável por gerar **Learning Curves (ou Curvas de Aprendizado)**.\n",
    "\n",
    "**NOTE:**  \n",
    "Um ponto importante aqui é que não há necessidade da nossa parte deixar de lado um *conjunto de validação*, porque a função **learning_curve()** cuidará disso.\n",
    "\n",
    "Primeiro, vamos deixar o código abaixo que faz toda essa bruxaria e depois vamos para as explicações:"
   ]
  },
  {
   "cell_type": "code",
   "execution_count": 3,
   "id": "9d05a360",
   "metadata": {},
   "outputs": [],
   "source": [
    "from sklearn.linear_model import LinearRegression\n",
    "from sklearn.model_selection import learning_curve\n",
    "\n",
    "features = ['AT', 'V', 'AP', 'RH'] # Features.\n",
    "target = 'PE' # Target variable.\n",
    "\n",
    "train_sizes, train_scores, validation_scores = learning_curve(\n",
    "  estimator = LinearRegression(),\n",
    "  X = electricity[features],\n",
    "  y = electricity[target],\n",
    "  train_sizes = train_sizes,\n",
    "  cv = 5,\n",
    "  scoring = 'neg_mean_squared_error'\n",
    ")"
   ]
  },
  {
   "cell_type": "markdown",
   "id": "b4be1911",
   "metadata": {},
   "source": [
    "**O que aconteceu no código acima foi o seguinte:**\n",
    "\n",
    " - **Importamos as classes necessárias:**\n",
    "   - LinearRegression()\n",
    "   - learning_curve()\n",
    " - **Criamos variáveis que vão armazenar as variáveis independentes e dependente:**\n",
    "   - Independentes = features = ['AT', 'V', 'AP', 'RH']\n",
    "   - Dependente = target = 'PE'\n",
    " - **Criamos uma instância da classe *learning_curve* que:**\n",
    "   - **Recebeu como argumento:**\n",
    "     - Estimator = Objeto (modelo) que ele vai utilizar para fazer previsões:\n",
    "       - Esse objeto tem que ser capaz de executar os métodos “fit” e “predict”.\n",
    "     - Variáveis independentes (X);\n",
    "     - Variável dependente (y ou target);\n",
    "     - train_sizes = O tamanho dos conjuntos de treinamento;\n",
    "     - cv = Cross-Validation\n",
    "     - Scoring = Métrica de Avaliação\n",
    "   - **Retornou:**\n",
    "     - train_sizes:\n",
    "       - Números de exemplos de treinamento que foram usados para gerar a *curva de aprendizado*.\n",
    "       - Observe que o número de ticks pode ser menor que n_ticks porque as entradas duplicadas serão removidas.\n",
    "       - *Na verdade esse retorno vai ser a mesma lista que nós passamos como entrada: train_sizes = [1, 100, 500, 2000, 5000, 7654]*\n",
    "     - train_scores:\n",
    "      - Scores DOS conjuntoS de treinamento.\n",
    "     - validation_scores:\n",
    "       - Scores DO conjunto de teste (ou validação)."
   ]
  },
  {
   "cell_type": "markdown",
   "id": "b76a0034",
   "metadata": {},
   "source": [
    "---"
   ]
  },
  {
   "cell_type": "markdown",
   "id": "a249f257",
   "metadata": {},
   "source": [
    "## 03.3 - Analisando as saídas da função learning_curve()\n",
    "\n",
    "Como nós já sabemos o que está dentro da variável **train_sizes (1, 100, 500, 2000, 5000, 7654)** vamos apenas inspecionar as outras duas variáveis para ver o que **learning_curve()** nos retornou. Que na verdade, que são:\n",
    " - **train_scores::**\n",
    "   - Os resultados para os erros de treinamento.\n",
    " - **validation_scores:**\n",
    "   - Os resultados para os erros de validação."
   ]
  },
  {
   "cell_type": "markdown",
   "id": "06e5ef17",
   "metadata": {},
   "source": [
    "Vamos começar com os erros de treinamento:"
   ]
  },
  {
   "cell_type": "code",
   "execution_count": 4,
   "id": "fb512282",
   "metadata": {},
   "outputs": [
    {
     "data": {
      "text/plain": [
       "numpy.ndarray"
      ]
     },
     "execution_count": 4,
     "metadata": {},
     "output_type": "execute_result"
    }
   ],
   "source": [
    "type(train_scores)"
   ]
  },
  {
   "cell_type": "markdown",
   "id": "b93e3b2e",
   "metadata": {},
   "source": [
    "Opa, vejam que nós temos Arrays Numpy como saída... vamos ver as dimenões?"
   ]
  },
  {
   "cell_type": "code",
   "execution_count": 5,
   "id": "684a5540",
   "metadata": {},
   "outputs": [
    {
     "data": {
      "text/plain": [
       "(6, 5)"
      ]
     },
     "execution_count": 5,
     "metadata": {},
     "output_type": "execute_result"
    }
   ],
   "source": [
    "train_scores.shape"
   ]
  },
  {
   "cell_type": "markdown",
   "id": "6f80d55c",
   "metadata": {},
   "source": [
    "**O que significa essa matriz 6x5?**  \n",
    " - **Linhas (6):**\n",
    "   - Representam os erros para os 6 conjuntos de treinamentos que nós separamos.\n",
    " - **Colunas (5):**\n",
    "   - Como nós estamos utilizando Cross-Validation=5, significa que para cada conjunto de treinamento vamos ter 5 splits de 5 folds cada."
   ]
  },
  {
   "cell_type": "markdown",
   "id": "46893a45",
   "metadata": {},
   "source": [
    "**NOTE:**  \n",
    "Essa mesma abordagem de análise nós vamos fazer agora, porém, para os dados de validação:"
   ]
  },
  {
   "cell_type": "code",
   "execution_count": 6,
   "id": "9d5647aa",
   "metadata": {},
   "outputs": [
    {
     "data": {
      "text/plain": [
       "numpy.ndarray"
      ]
     },
     "execution_count": 6,
     "metadata": {},
     "output_type": "execute_result"
    }
   ],
   "source": [
    "type(train_scores)"
   ]
  },
  {
   "cell_type": "code",
   "execution_count": 7,
   "id": "71f1cb71",
   "metadata": {},
   "outputs": [
    {
     "data": {
      "text/plain": [
       "(6, 5)"
      ]
     },
     "execution_count": 7,
     "metadata": {},
     "output_type": "execute_result"
    }
   ],
   "source": [
    "train_scores.shape"
   ]
  },
  {
   "cell_type": "markdown",
   "id": "8936c0f2",
   "metadata": {},
   "source": [
    "**Por que nós temos as mesmas dimensões para os conjuntos de validação?**  \n",
    "Para cada conjunto de treinamento (e suas divisões) nós temos seus respectivos erros de conjunto de validação. Por isso, as mesmas dimensões.\n",
    "\n",
    "**NOTE:**  \n",
    "Por fim, vamos exibir esses erros para os **conjuntos de treinamento** e **validação**:"
   ]
  },
  {
   "cell_type": "code",
   "execution_count": 8,
   "id": "5b94badd",
   "metadata": {},
   "outputs": [
    {
     "name": "stdout",
     "output_type": "stream",
     "text": [
      "Training scores:\n",
      "\n",
      " [[ -0.          -0.          -0.          -0.          -0.        ]\n",
      " [-19.71230701 -18.31492642 -18.31492642 -18.31492642 -18.31492642]\n",
      " [-18.14420459 -19.63885072 -19.63885072 -19.63885072 -19.63885072]\n",
      " [-21.53603444 -20.18568787 -19.98317419 -19.98317419 -19.98317419]\n",
      " [-20.47708899 -19.93364211 -20.56091569 -20.4150839  -20.4150839 ]\n",
      " [-20.98565335 -20.63006094 -21.04384703 -20.63526811 -20.52955609]]\n",
      "\n",
      " ----------------------------------------------------------------------\n",
      "\n",
      "Validation scores:\n",
      "\n",
      " [[-619.30514723 -379.81090366 -374.4107861  -370.03037109 -373.30597982]\n",
      " [ -21.80224219  -23.01103419  -20.81350389  -22.88459236  -23.44955492]\n",
      " [ -19.96005238  -21.2771561   -19.75136596  -21.4325615   -21.89067652]\n",
      " [ -19.92863783  -21.35440062  -19.62974239  -21.38631648  -21.811031  ]\n",
      " [ -19.88806264  -21.3183303   -19.68228562  -21.35019525  -21.75949097]\n",
      " [ -19.9046791   -21.33448781  -19.67831137  -21.31935146  -21.73778949]]\n"
     ]
    }
   ],
   "source": [
    "print('Training scores:\\n\\n', train_scores)\n",
    "print('\\n', '-' * 70) # Estamos multiplicando o caractere '-' por 70, ou seja, uma linha tracejada.\n",
    "print('\\nValidation scores:\\n\\n', validation_scores)"
   ]
  },
  {
   "cell_type": "markdown",
   "id": "a09a9cec",
   "metadata": {},
   "source": [
    "**NOTE:**  \n",
    "Como nós especificamos 6 tamanhos de conjuntos de treinamento (1, 100, 500, 2000, 5000, 7654), você talvez estaja esperando 6 valores para cada tipo de pontuação (score). Entretando, como já foi analisado acima, na hora da instanciação da classe **learning_curve()** nós passamos o parâmetro **cv=5**, ou seja, estamos utilizando uma validação-cruzada (K-Fold) igual a 5. Por isso, temos matrizes **6x5**, onde:\n",
    "\n",
    "Vamos pegar apenas **train_scores** e abstrair para a seguinte tabela:\n",
    "\n",
    "| Tamanho do conjunto de treinamento (índice) |\tDivisão1\t |   Divisão2\t|   Divisão3   | Divisão 4\t  | Divisão 5    |\n",
    "|---------------------------------------------|--------------|--------------|--------------|--------------|--------------|\n",
    "| 1                                           |   \t 0       |      0       |     \t0\t   |       0      |\t      0      |\n",
    "| 100\t                                      | -19.71230701 | -18.31492642 | -18.31492642 | -18.31492642 |\t-18.31492642 |\n",
    "| 500\t                                      | -18.14420459 | -19.63885072 | -19.63885072 | -19.63885072 |\t-19.63885072 |\n",
    "| 2000\t                                      | -21.53603444 | -20.18568787 | -19.98317419 | -19.98317419 |\t-19.98317419 |\n",
    "| 5000\t                                      | -20.47708899 | -19.93364211 | -20.56091569 | -20.4150839  |\t-20.4150839  |\n",
    "| 7654\t                                      | -20.98565335 | -20.63006094 | -21.04384703 | -20.63526811 |\t-20.52955609 |"
   ]
  },
  {
   "cell_type": "markdown",
   "id": "e78deb24",
   "metadata": {},
   "source": [
    "**NOTE:**  \n",
    "Uma observação aqui é que para plotar as **curvas de aprendizado**, precisamos apenas de uma única pontuação (score) de erro por tamanho de conjunto de treinamento e não 5. Por esse motivo, vamos pegar o valor médio de cada linha e também inverter os sinais das pontuações de erro, ou seja, vamos deixar os scores positivos (menos o primeiro que foi 0 erro)."
   ]
  },
  {
   "cell_type": "code",
   "execution_count": 9,
   "id": "baefe9b6",
   "metadata": {},
   "outputs": [
    {
     "name": "stdout",
     "output_type": "stream",
     "text": [
      "Mean training scores:\n",
      " 1       -0.000000\n",
      "100     18.594403\n",
      "500     19.339921\n",
      "2000    20.334249\n",
      "5000    20.360363\n",
      "7654    20.764877\n",
      "dtype: float64\n",
      "\n",
      " --------------------\n",
      "\n",
      "Mean validation scores:\n",
      " 1       423.372638\n",
      "100      22.392186\n",
      "500      20.862362\n",
      "2000     20.822026\n",
      "5000     20.799673\n",
      "7654     20.794924\n",
      "dtype: float64\n"
     ]
    }
   ],
   "source": [
    "train_scores_mean = -train_scores.mean(axis = 1)\n",
    "validation_scores_mean = -validation_scores.mean(axis = 1)\n",
    "\n",
    "print('Mean training scores:\\n', pd.Series(train_scores_mean, index = train_sizes))\n",
    "print('\\n', '-' * 20) # Separator\n",
    "print('\\nMean validation scores:\\n',pd.Series(validation_scores_mean, index = train_sizes))"
   ]
  },
  {
   "cell_type": "markdown",
   "id": "be33577e",
   "metadata": {},
   "source": [
    "**NOTE:**  \n",
    "Ótimo, agora nós temos as médias dos erros para os 6 conjuntos de treinamento e os respectivos erros de validação. Finalmente,  temos todos os dados que precisamos para traçar as **Learning Curves (ou Curvas de Aprendizado)**. Porém, antes de fazer a plotagem, precisamos parar e fazer algumas observações importantes...\n",
    "\n",
    "Primeiro, você deve ter notado que algumas pontuações (scores) de erro nos conjuntos de treinamento são as mesmas:\n",
    "\n",
    "\n",
    "| Tamanho do conjunto de treinamento (índice) |\tDivisão1\t |   Divisão2\t|   Divisão3   | Divisão 4\t  | Divisão 5    |\n",
    "|---------------------------------------------|--------------|--------------|--------------|--------------|--------------|\n",
    "| 1                                           |   \t **0**       |      **0**       |     \t**0**\t   |       **0**      |\t      **0**      |\n",
    "| 100\t                                      | -19.71230701 | **-18.31492642** | **-18.31492642** | **-18.31492642** |\t**-18.31492642** |\n",
    "| 500\t                                      | -18.14420459 | **-19.63885072** | **-19.63885072** | **-19.63885072** |\t**-19.63885072** |\n",
    "| 2000\t                                      | -21.53603444 | -20.18568787 | **-19.98317419** | **-19.98317419** |\t**-19.98317419** |\n",
    "| 5000\t                                      | -20.47708899 | -19.93364211 | -20.56091569 | **-20.4150839**  |\t**-20.4150839**  |\n",
    "| 7654\t                                      | -20.98565335 | -20.63006094 | -21.04384703 | -20.63526811 |\t-20.52955609 |\n",
    "\n",
    "Vejam que elas ou são as mesmas ou se aproximam muito, para a linha correspondente ao tamanho do conjunto de treinamento de 1, isso é esperado, mas e as outras linhas?\n",
    "\n",
    "Com exceção da última linha, temos muitos valores idênticos. Por exemplo, pegue a segunda linha onde temos valores idênticos da segunda divisão em diante. Por que, isso?\n",
    "\n",
    "> **Isso é causado por não randomizar os dados de treinamento para cada divisão.**\n",
    "\n",
    "Para entender melhor veja o diagrama (imagem) abaixo:\n",
    "\n",
    "![img](images/splits.png)  \n",
    "\n",
    "Quando o tamanho de treinamento é 500, **as primeiras 500 instâncias no conjunto de treinamento são selecionadas**, porém, como a primeira parte foi reservada para os dados de validação as 500 instâncias serão retiradas da segunda parte:\n",
    "\n",
    "![img](images/splits-01.png)  \n",
    "\n",
    "**NOTE:**  \n",
    "Uma observação aqui é que a partir da segunda divisão (splits), essas 500 instâncias serão retiradas da primeira parte:\n",
    "\n",
    "![img](images/splits-02.png)  \n",
    "\n",
    "Como não randomizamos o conjunto de treinamento, as 500 instâncias usadas para treinamento são as mesmas para a segunda divisão (splits) em diante.\n",
    "\n",
    "**NOTE:**  \n",
    "Isso explica os valores idênticos da segunda divisão em diante para o caso de 500 instâncias de treinamento.\n",
    "\n",
    "| Tamanho do conjunto de treinamento (índice) |\tDivisão1\t |   Divisão2\t|   Divisão3   | Divisão 4\t  | Divisão 5    |\n",
    "|---------------------------------------------|--------------|--------------|--------------|--------------|--------------|\n",
    "| 500\t                                      | -18.14420459 | **-19.63885072** | **-19.63885072** | **-19.63885072** |\t**-19.63885072** |\n",
    "\n",
    "**NOTE:**  \n",
    "Um raciocínio idêntico se aplica ao caso de 100 instâncias, e um raciocínio semelhante se aplica aos outros casos.\n",
    "\n",
    "![img](images/splits-02.png)  \n",
    "\n",
    "| Tamanho do conjunto de treinamento (índice) |\tDivisão1\t |   Divisão2\t|   Divisão3   | Divisão 4\t  | Divisão 5    |\n",
    "|---------------------------------------------|--------------|--------------|--------------|--------------|--------------|\n",
    "| 100\t                                      | -19.71230701 | **-18.31492642** | **-18.31492642** | **-18.31492642** |\t**-18.31492642** |\n",
    "\n",
    "**NOTE:**  \n",
    "Para interromper esse comportamento, precisamos definir o parâmetro **shuffle=True** na função **learning_curve()**. Isso irá randomizar os índices para os dados de treinamento para cada divisão.\n",
    "\n",
    "**Nós não aplicamos essa randomização acima antes por dois motivos:**\n",
    "\n",
    " - Os dados que nós estamos trabalhando já vêm pré-embaralhados cinco vezes (como mencionado na [documentação](https://archive.ics.uci.edu/ml/datasets/Combined+Cycle+Power+Plant)), então não há necessidade de randomizar mais;\n",
    " - Eu queria deixá-lo ciente sobre essa peculiaridade caso você se depare com esse problema na prática."
   ]
  },
  {
   "cell_type": "markdown",
   "id": "f4fb4793",
   "metadata": {},
   "source": [
    "---"
   ]
  },
  {
   "cell_type": "markdown",
   "id": "c131f3fe",
   "metadata": {},
   "source": [
    "## 03.4 - Plotando e analisando as Learning Curves (ou Curvas de Aprendizado)\n",
    "\n",
    "Nessa parte a primeira coisa que nós vamos fazer é criar um gráfico (plot) com as **Learning Curves (ou Curvas de Aprendizado)**, que vão representar:\n",
    "\n",
    " - **Os erros dos conjuntos de treinamentos;**\n",
    " - **Os referentes erros para os conjuntos de validação:**\n",
    "   - Lembrando, que mesmo que o conjundo de validação tenha sempre o mesmo tamanho, ele vai ser comparado com conjuntos de treinamentos diferentes, por isso, não vai ser sempre o mesmo.\n",
    "\n",
    "Ok, agora vamos ver isso na prática:"
   ]
  },
  {
   "cell_type": "code",
   "execution_count": 10,
   "id": "2e8c9866",
   "metadata": {},
   "outputs": [
    {
     "data": {
      "image/png": "[encoded data removed]",
      "text/plain": [
       "<Figure size 720x504 with 1 Axes>"
      ]
     },
     "metadata": {
      "needs_background": "light"
     },
     "output_type": "display_data"
    }
   ],
   "source": [
    "import matplotlib.pyplot as plt\n",
    "\n",
    "plt.figure(figsize=(10, 7))\n",
    "plt.style.use('seaborn')\n",
    "plt.plot(train_sizes, train_scores_mean, marker='o', label = 'Training error')\n",
    "plt.plot(train_sizes, validation_scores_mean, marker='o', label = 'Validation error')\n",
    "plt.ylabel('MSE', fontsize = 14)\n",
    "plt.xlabel('Training set size', fontsize = 14)\n",
    "plt.title('Learning curves for a linear regression model', fontsize = 18, y = 1.03)\n",
    "plt.legend()\n",
    "plt.ylim(0, 40)\n",
    "plt.savefig('images/learning-curve-01.png', format='png')\n",
    "plt.show()"
   ]
  },
  {
   "cell_type": "markdown",
   "id": "305ac3de",
   "metadata": {},
   "source": [
    "**NOTE:**  \n",
    "Há muitas informações que podemos extrair do gráfico acima. Por exemplo:\n",
    "\n",
    " - **Quando o tamanho do conjunto de treinamento é 1, podemos ver que o *MSE* para o conjunto de treinamento é 0 (zero):**\n",
    "   - Este é um comportamento normal, pois o modelo não tem problemas para ajustar perfeitamente um único ponto de dados. Portanto, quando testado no mesmo ponto de dados, a previsão é perfeita.\n",
    " - **Mas quando testado no conjunto de validação (que tem 1914 instâncias), o *MSE* dispara até aproximadamente 423,4:**\n",
    "   - Esse valor relativamente alto é a razão pela qual restringimos o intervalo do eixo y entre 0 e 40. Isso nos permite ler a maioria dos valores de MSE com precisão.\n",
    "   - Um valor tão alto é esperado, pois é extremamente improvável que um modelo treinado em um único ponto de dados possa generalizar com precisão para 1.914 novas instâncias que não foram vistas no treinamento.\n",
    " - **Quando o tamanho do conjunto de treinamento aumenta para 100, o *MSE* de treinamento aumenta acentuadamente:**\n",
    "   - O modelo de regressão linear não prevê todos os 100 pontos de treinamento perfeitamente, então o MSE de treinamento é maior que 0.\n",
    "   - No entanto, o modelo tem um desempenho muito melhor agora no conjunto de validação porque é estimado com mais dados.\n",
    "\n",
    "**Agora vem a observação mais importante de todas:**  \n",
    "A partir de 500 pontos (instâncias) de dados de treinamento, o *MSE* de validação permanece praticamente o mesmo. Isso nos diz algo extremamente importante:\n",
    "\n",
    " - **Adicionar mais pontos (instâncias) de dados de treinamento não levará a modelos significativamente melhores. Então, em vez de perder tempo (e possivelmente dinheiro) coletando mais dados, precisamos tentar outra abordagem, como:**\n",
    "   - Mudar para um algoritmo que possa construir modelos mais complexos;\n",
    "   - Preprocessar os recursos (features) existentes;\n",
    "   - Ou adicionar novos recursos (features).\n",
    "\n",
    "Vamos comparar a nosssa análise com a imagem (gráfico) abaixo:\n",
    "\n",
    "![img](images/add_data.webp)  \n",
    "\n",
    " - **No primeiro gráfico (imagem) nós temos a seguinte situação:**\n",
    "   - As duas curvas já convergiram;\n",
    "   - Adicionar mais instâncias de treinamento provavelmente não ajudará diminuir o erro do conjunto de validação;\n",
    "   - Provavelmente será melhor preprocessar ou adicionar novos recursos (features) do que adicionar novas instâncias.\n",
    " - **No segundo gráfico (imagem) nós temos a seguinte situação:**\n",
    "   - A curva de validação pode convergir para a curva de treinamento se mais instâncias de treinamento forem adicionadas\n",
    "\n",
    "**NOTE:**  \n",
    "Viram que tanto no nosso gráfico como nesse último exemplo (imagem) nós estamos trabalhando no **trade-off viés-variância** até chegar nos valores mínimos possíveis simultaneamente (provavelmente quando as curvas convergem)."
   ]
  },
  {
   "cell_type": "markdown",
   "id": "e9d912e8",
   "metadata": {},
   "source": [
    "---"
   ]
  },
  {
   "cell_type": "markdown",
   "id": "43608568",
   "metadata": {},
   "source": [
    "## 03.5 - Analisando o erro do conjunto de validação (viés/bias)\n",
    "\n",
    "Para evitar um equívoco aqui, é importante notar que o que realmente não vai ajudar a diminuir o erro no conjunto de validação é adicionar mais instâncias (linhas) aos dados de treinamento. Então, qual seria uma solução para diminuir os erros no conjunto de validação?\n",
    "\n",
    "> **Adicionar mais recursos (features), no entanto, é uma abordagem diferente e provavelmente ajudará porque aumentará a complexidade do nosso modelo atual. E como nós sabemos quando a complexidade de um modelo aumenta a variância também aumenta e o viés/bias diminui. Ou seja, estamos diminuindo os erros do conjunto de validação.**\n",
    "\n",
    "**NOTE:**  \n",
    "Como nós sabemos o principal indicador de um problema de **viés/bias** é um *alto erro de validação*. No nosso caso, o **MSE** de validação estagna em um valor de aproximadamente **20**.\n",
    "\n",
    "> Mas isso é bom ou ruim?\n",
    "\n",
    "**NOTE:**  \n",
    "Nós nos beneficiaríamos de algum conhecimento do domínio (talvez física ou engenharia neste caso) do problema para responder essa pergunta. Mas imagine que nós pagamos uma consultoria técnica que nós deu a seguinte conclusão:\n",
    "\n",
    "\n",
    "> Que um *MSE* de *20 MW* é bem grande para esse tipo de problema. Portanto, nosso modelo tem um problema de viés.\n",
    "\n",
    "Mas é um **problema de baixo viés** ou um **problema de alto viés**? Para encontrar a resposta, precisamos olhar para o erro de treinamento:**\n",
    "\n",
    " - **Se o erro de treinamento for muito baixo, significa que os dados de treinamento estão muito bem ajustados pelo modelo estimado:**\n",
    "   - Se o modelo se ajustar muito bem aos dados de treinamento, significa que ele tem baixo viés em relação a esse conjunto de dados.\n",
    " - **Se o erro de treinamento for alto, significa que os dados de treinamento não estão bem ajustados pelo modelo estimado:**\n",
    "   - Se o modelo não se ajustar bem aos dados de treinamento, isso significa que ele possui um alto viés em relação a esse conjunto de dados.\n",
    "\n",
    "Para ficar mais claro, vamos analisar a imagem abaixo:\n",
    "\n",
    "![img](images/low_high_bias.png)  \n",
    "\n",
    " - **No caso de alto viés/bias (High Bias):**\n",
    "   - Quando nós temos um alto erro no conjunto de treinamento indica que teremos um alto erro viés/bias;\n",
    "   - Esse erro de viés/bias está relacionado com o erro de validação (teste).\n",
    " - **No caso de baixo viés/bias (Low Bias):**\n",
    "   - Quando nós temos um baixo erro no conjunto de treinamento indica que teremos um baixo erro de viés/bias;\n",
    "   - Esse baixo erro de viés/bias também está relacionado com o erro de validação.\n",
    "\n",
    "**NOTE:**  \n",
    "Resumindo, agora nós sabemos que o nosso modelo tem um problema **alto viés/bias**.\n",
    "\n",
    "> Mas, como resolver esse problema de **Alto viés/bias**?"
   ]
  },
  {
   "cell_type": "markdown",
   "id": "5bac5a2f",
   "metadata": {},
   "source": [
    "---"
   ]
  },
  {
   "cell_type": "markdown",
   "id": "41992fbd",
   "metadata": {},
   "source": [
    "## 03.6 - Analisando o erro do conjunto de treinamento (variação/variância)\n",
    "\n",
    "Bem, como nós diagnosticamos no tópico anterior temos um **problema de alto viés/bias** no nosso modelo. Agora vamos tentar um **trade-off** de **viés-variância** para ver se conseguimos resolver ou minimizar esse problema.\n",
    "\n",
    "> Similar ao conjunto de validação, nosso conjunto de treinamento também tem um **MSE** de aproximadamente **20 MW**. Como já estabelecemos, essa é uma pontuação de (score) **erro alta**.\n",
    "\n",
    "Agora vamos avançar com o diagnóstico de eventuais problemas de **variação**. A estimativa da **variância** pode ser feita de pelo menos duas maneiras:\n",
    "\n",
    " - **Examinando a lacuna (gap) entre a curva de aprendizado de treinamento e a curva de aprendizado de validação.**\n",
    " - **Examinando o erro de treinamento:**\n",
    "   - Seu valor e sua evolução à medida que o tamanho do conjunto de treinamento aumenta.\n",
    "\n",
    "Vamos começar analisando a lacuna (gap) entre a curva de aprendizado de treinamento e a curva de aprendizado de validação para o nosso problema:\n",
    "\n",
    "![img](images/lc_regression.webp)  \n",
    "\n",
    "**Vejam que nós temos uma lacuna (gap) estreita:**\n",
    " - Geralmente, quanto mais estreita a lacuna (gap), menor a variância;\n",
    " - O oposto também é verdadeiro: quanto maior a diferença da lacuna (gap), maior a variância.\n",
    "\n",
    "**Vamos agora explicar por que esse é o caso:**  \n",
    "\n",
    " - **Como discutimos anteriormente:**\n",
    "   - **Se a variação for alta, o modelo se ajusta muito bem aos dados de treinamento:**\n",
    "     - Quando os dados de treinamento são ajustados muito bem, o modelo terá problemas para generalizar em dados que não foram vistos no treinamento.\n",
    "     - Quando tal modelo é testado em seu conjunto de treinamento e, em seguida, em um conjunto de validação, o erro de treinamento será baixo e o erro de validação geralmente será alto.\n",
    "\n",
    "A relação entre o erro de treinamento e validação e a lacuna pode ser resumida desta forma:\n",
    "\n",
    "![img](images/gap-01.png)  \n",
    "\n",
    "**NOTE:**  \n",
    "Quanto maior a diferença entre os dois erros, maior a variação. No nosso caso, a diferença é muito estreita, então podemos concluir com segurança que a **variância é baixa**.\n",
    "\n",
    "Vamos analisar os gráficos (imagens) abaixo agora:\n",
    "\n",
    "![img](images/low_high_var.webp)  \n",
    "\n",
    "**Analisando os gráficos acima nós temos que:**  \n",
    " - **Quanto MAIOR o erro nos dados de treinamento:**\n",
    "   - Menor a lacuna (gap):\n",
    "     - Menor a variância (ou baixa variância).\n",
    " - **Quanto MENOR o erro nos dados de treinamento:**\n",
    "   - Maior a lacuna (gap):\n",
    "     - Maior a variância (ou alta variância).\n",
    "\n",
    "**NOTE:**  \n",
    "No nosso caso, o **MSE** de treinamento se estabiliza em torno de **20 MW**, e já concluímos que é um valor alto. Então, além de uma lacuna (gap) estreita, agora temos outra confirmação de que temos um problema de **baixa variância**."
   ]
  },
  {
   "cell_type": "markdown",
   "id": "a84d8dac",
   "metadata": {},
   "source": [
    "---"
   ]
  },
  {
   "cell_type": "markdown",
   "id": "6061bac0",
   "metadata": {},
   "source": [
    "## 03.7 - Resumo das Análises das Learning Curves (ou Curvas de Aprendizado)\n",
    "\n",
    "Até agora nós já fizemos várias análises e podemos concluir que:\n",
    "\n",
    " - **Nosso algoritmo (modelo):**\n",
    "   - Tem problema alto viés/bias;\n",
    "   - Tem problema baixa variância;\n",
    "   - Adicionar mais instâncias (linhas) aos dados de treinamento é altamente improvável que leve a melhores modelos no algoritmo (modelo) de aprendizado atual.\n",
    "\n",
    "**NOTE:**  \n",
    "Uma solução (não definitiva, podemos ter outras) neste momento é mudar para um algoritmo de aprendizado mais complexo. Isso deve:\n",
    "\n",
    " - **Aumenta a variância:**\n",
    "   - Visto que quando a complexidade de um modelo aumenta a variância também aumenta e como temos um problema de baixa variãncia, essa abordagem ajudaria resolver ou diminuir esse problema.\n",
    " - **Diminuir o viés/bias:**\n",
    "   - Nós também sabemos que quando a complexidade de um modelo aumenta o viés/bias diminui e isso também nós ajudaria no nosso problema de alta viés/bias."
   ]
  },
  {
   "cell_type": "markdown",
   "id": "a016b84d",
   "metadata": {},
   "source": [
    "---"
   ]
  },
  {
   "cell_type": "markdown",
   "id": "c61e90e3",
   "metadata": {},
   "source": [
    "## 03.8 - Aumentando a Complexidade do modelo\n",
    "\n",
    "Como já ficou bem claro no resumo das análises acima mudar para um algoritmo de aprendizado mais complexo pode ser uma das soluções. Vamos ver como o Algoritmo **RandomForestRegressor** não regularizado se sai aqui.\n",
    "\n",
    "**NOTE:**  \n",
    "Geraremos as curvas de aprendizado usando o mesmo fluxo de trabalho de antes. Porém, desta vez, agruparemos tudo em uma função para que possamos usá-la mais tarde. Para comparação, também exibiremos as curvas de aprendizado para o modelo de regressão linear feitas anteriormente."
   ]
  },
  {
   "cell_type": "code",
   "execution_count": 11,
   "id": "fd181702",
   "metadata": {},
   "outputs": [
    {
     "data": {
      "image/png": "[encoded data removed]",
      "text/plain": [
       "<Figure size 1152x360 with 2 Axes>"
      ]
     },
     "metadata": {},
     "output_type": "display_data"
    }
   ],
   "source": [
    "def create_learning_curves(estimator, data, features, target, train_sizes, cv):\n",
    "  train_sizes, train_scores, validation_scores = learning_curve(\n",
    "  estimator, data[features], data[target], train_sizes =\n",
    "  train_sizes,\n",
    "  cv = cv, scoring = 'neg_mean_squared_error')\n",
    "  train_scores_mean = -train_scores.mean(axis = 1)\n",
    "  validation_scores_mean = -validation_scores.mean(axis = 1)\n",
    "\n",
    "  plt.plot(train_sizes, train_scores_mean, label = 'Training error')\n",
    "  plt.plot(train_sizes, validation_scores_mean, label = 'Validation error')\n",
    "\n",
    "  plt.ylabel('MSE', fontsize = 14)\n",
    "  plt.xlabel('Training set size', fontsize = 14)\n",
    "  title = 'Learning curves for a ' + str(estimator).split('(')[0] + ' model'\n",
    "  plt.title(title, fontsize = 18, y = 1.03)\n",
    "  plt.legend()\n",
    "  plt.ylim(0,40)\n",
    "\n",
    "### Plotting the two learning curves ###\n",
    "\n",
    "from sklearn.ensemble import RandomForestRegressor\n",
    "\n",
    "plt.figure(figsize = (16,5))\n",
    "\n",
    "for model, i in [(RandomForestRegressor(), 1), (LinearRegression(),2)]:\n",
    "  plt.subplot(1, 2, i)\n",
    "  create_learning_curves(model, electricity, features, target, train_sizes, 5)"
   ]
  },
  {
   "cell_type": "markdown",
   "id": "914a0a7c",
   "metadata": {},
   "source": [
    "**Vamos agora comparar, analisar e interpretar os 2 gráficos acima:**  \n",
    " - Observando a curva de validação do novo modelo (algoritmo), podemos ver que conseguimos diminuir o viés/bias:\n",
    "   - Ainda há algum viés/bias significativo, mas não tanto quanto antes.\n",
    " - Observando a curva de treinamento, podemos *deduzir* que desta vez há um problema de baixo viés;\n",
    " - A nova lacuna (gap) entre as duas curvas de aprendizado sugere um aumento substancial na variância;\n",
    " - A grande lacuna (gap) e o baixo erro de treinamento também indicam um problema de *overfitting:*\n",
    "   - O *Overfitting* acontece quando o modelo tem um bom desempenho no conjunto de treinamento, mas muito pior no conjunto de teste (ou validação).\n",
    " - Mais uma observação importante é que agora podemos adição de novas instâncias de treinamento e provavelmente levará a modelos melhores;\n",
    " - A curva de validação não se estabiliza no tamanho máximo do conjunto de treinamento usado. Ele ainda tem potencial para diminuir e convergir para a curva de treinamento, semelhante à convergência que vemos no caso da regressão linear.\n",
    "\n",
    "\n",
    "**Diante de todas essas observações, podemos concluir que:**\n",
    " - Nosso novo algoritmo de aprendizado (RandomForestRegressor) sofre de:\n",
    "   - Alta variância;\n",
    "   - E um viés bastante baixo, superajustando os dados de treinamento.\n",
    " - A adição de mais instâncias de treinamento provavelmente levará a modelos melhores no algoritmo de aprendizado atual (RandomForestRegressor).\n",
    "\n",
    "**Neste ponto, aqui estão algumas coisas que podemos fazer para melhorar nosso modelo:**\n",
    " - Adicionando mais instâncias de treinamento;\n",
    " - Aumentar a regularização do nosso algoritmo de aprendizado atual. Isso deve diminuir a variância e aumentar o viés;\n",
    " - Reduzindo o número de recursos nos dados de treinamento que usamos atualmente. O algoritmo ainda se ajustará muito bem aos dados de treinamento, mas devido ao número reduzido de recursos, ele construirá modelos menos complexos. Isso deve aumentar o viés e diminuir a variância.\n",
    "\n",
    "**NOTE:**  \n",
    "No nosso caso, não temos outros dados prontamente disponíveis. Poderíamos entrar na usina e fazer algumas medições, mas vamos guardar ignorar essa possibilidade.\n",
    "\n",
    "**Regularizando o nosso modelo (Algoritmo):**  \n",
    "Vamos tentar regularizar nosso algoritmo **RandomForestRegressor**. Uma maneira de fazer isso é ajustar o número máximo de nós folha em cada árvore de decisão. Isso pode ser feito usando o parâmetro **max_leaf_nodes**. Não é necessariamente para você entender essa técnica de regularização. Para nosso propósito aqui, o que você precisa focar é o efeito dessa regularização nas curvas de aprendizado."
   ]
  },
  {
   "cell_type": "code",
   "execution_count": 12,
   "id": "40838509",
   "metadata": {},
   "outputs": [
    {
     "data": {
      "image/png": "[encoded data removed]",
      "text/plain": [
       "<Figure size 576x396 with 1 Axes>"
      ]
     },
     "metadata": {},
     "output_type": "display_data"
    }
   ],
   "source": [
    "create_learning_curves(RandomForestRegressor(max_leaf_nodes = 350), electricity, features, target, train_sizes, 5)"
   ]
  },
  {
   "cell_type": "markdown",
   "id": "4e2749b5",
   "metadata": {},
   "source": [
    "**Nada mal!**  \n",
    "A diferença agora é mais estreita, então há menos variação. O viés/bias parece ter aumentado um pouco, que é o que queríamos. Mas nosso trabalho está longe de terminar! O **MSE** de validação ainda mostra muito potencial para diminuir.\n",
    "\n",
    "**Algumas etapas que você pode tomar em direção a esse objetivo incluem:**  \n",
    " - Adicionando mais instâncias de treinamento;\n",
    " - Adicionando mais recursos;\n",
    " - Seleção de recursos;\n",
    " - Otimização de hiperparâmetros."
   ]
  },
  {
   "cell_type": "markdown",
   "id": "00e8dc1c",
   "metadata": {},
   "source": [
    "---"
   ]
  },
  {
   "cell_type": "markdown",
   "id": "90600f0b",
   "metadata": {},
   "source": [
    "## 03.9 - As Curvas de Aprendizado ideais & o Erro Irredutível\n",
    "\n",
    "As curvas de aprendizado constituem uma ótima ferramenta para fazer uma verificação rápida em nossos modelos em todos os pontos do fluxo de trabalho de aprendizado de máquina.\n",
    "\n",
    " - Mas como sabemos quando parar?\n",
    " - Como reconhecemos as curvas de aprendizado perfeitas?\n",
    "\n",
    "**NOTE:**  \n",
    "Para nosso caso de regressão anterior, você pode pensar que o cenário perfeito é quando ambas as curvas convergem para um **MSE** de 0. Esse é um cenário perfeito, de fato, mas, infelizmente, não é possível. Nem na prática, nem na teoria.\n",
    "\n",
    "> E isso é por causa de algo chamado **Erro Irredutível**.\n",
    "\n",
    "Quando construímos um modelo para mapear a relação entre os recursos ***X*** e o alvo ***Y***, assumimos que existe tal relação em primeiro lugar. Desde que a suposição seja verdadeira, existe um modelo ***f(X)*** verdadeiro que descreve perfeitamente a relação entre ***X*** e ***Y***, igual a:\n",
    "\n",
    "![img](images/irreducicle-error-01.png)  \n",
    "\n",
    "\n",
    "**Mas e esse erro (irreducible error) que foi adicionado a equação?**  \n",
    "Não acabamos de dizer que ***f(X)*** descreve perfeitamente a relação entre ***X*** e ***Y***? Há um erro aí porque ***Y*** não é apenas uma função do nosso número limitado de recursos ***X***.\n",
    "\n",
    "**Pode haver muitas outras características que influenciam o valor de *Y*:**\n",
    " - Recursos que não temos;\n",
    " - Pode ser também o caso de ***X*** ter erros de medição.\n",
    "\n",
    "**NOTE:**  \n",
    "Ou seja, mesmo que mínimo nós **SEMPRE** teremos um erro e esse erro é chamado de **Erro Irredutível**.\n",
    "\n",
    "**Agora vamos explicar porque esse *erro* é *irredutível (irreducible)*:**  \n",
    "Quando nós estimarmos ***f(X)*** com um modelo ***f<sup>^</sup>(X)***, **introduzimos outro tipo de erro**, chamado erro **redutível**:\n",
    "\n",
    "![img](images/irreducicle-error-02.png)  \n",
    "\n",
    "**NOTE:**  \n",
    "Vejam que agora nós temos outro tipo de erro, **reducicle Error**.\n",
    "\n",
    "Substituindo ***f(X)*** por ***f<sup>^</sup>(X)*** agora nós teremos:\n",
    "\n",
    "![img](images/irreducicle-error-03.png)  \n",
    "\n",
    "**NOTE:**  \n",
    "Observem que no total nós agora temos 2 erros somados ao resultado do nosso modelo:\n",
    " - **Reducicle Error**;\n",
    " - **Irreducible Error**.\n",
    "\n",
    "**NOTE:**  \n",
    "O erro que é **redutível (Reducicle Error)** pode ser reduzido construindo modelos melhores. Ou seja, ele pode ser minimizado ou reduzido totalmente. No entanto, o erro **Erro Irredutível (Irreducible Error)** não pode ser removido da equação. Ele SEMPRE vai existir, pouco ou muito, mas vai.\n",
    "\n",
    "**NOTE:**  \n",
    "Daqui deduzimos que não importa quão boa seja nossa estimativa de modelo, geralmente ainda há algum erro que não podemos reduzir. E é por isso que esse erro é considerado **irredutível**.\n",
    "\n",
    "**NOTE:**  \n",
    "Isso nos diz que na prática as melhores curvas de aprendizado possíveis que podemos ver são aquelas que convergem para o valor de algum **erro irredutível**, não para algum valor de erro ideal *(para **MSE**, a pontuação de erro ideal é **0**; veremos imediatamente que outras métricas de erro têm valores de erro ideais diferentes)*.\n",
    "\n",
    "Vamos agora analisar o gráfico (imagem) abaixo:\n",
    "\n",
    "![img](images/irr_error.webp)  \n",
    "\n",
    "**NOTE:**  \n",
    "Na prática, o valor exato do **Erro Irredutível** é quase sempre *desconhecido*. Também assumimos que o **Erro Irredutível** é independente de ***X***. Isso significa que não podemos usar ***X*** para encontrar o verdadeiro **Erro Irredutível**."
   ]
  },
  {
   "cell_type": "markdown",
   "id": "f96b4180",
   "metadata": {},
   "source": [
    "---"
   ]
  },
  {
   "cell_type": "markdown",
   "id": "da9b4ef2",
   "metadata": {},
   "source": [
    "## 03.10 - E quanto a problemas de Classificação?\n",
    "\n",
    "Até agora, aprendemos sobre curvas de aprendizado em uma configuração de regressão. Para tarefas de classificação, o fluxo de trabalho é quase idêntico. A principal diferença é que teremos que escolher outra métrica de erro – uma que seja adequada para avaliar o desempenho de um classificador.\n",
    "\n",
    "Vejamos um exemplo:\n",
    "\n",
    "![img](images/classification_last.webp)  \n",
    "\n",
    "**NOTE:**  \n",
    "Ao contrário do que vimos até agora, observe que a curva de aprendizado do erro de treinamento está acima da curva do erro de validação.\n",
    "\n",
    "> Isso ocorre porque a Métricas de Avaliação usada, *accuracy*, descreve o quão bom é o modelo. Ou seja, quanto maior melhor.\n",
    "\n",
    "**NOTE:**  \n",
    "O **MSE**, por outro lado, descreve o quão ruim é um modelo. Quanto menor o **MSE**, melhor."
   ]
  },
  {
   "cell_type": "markdown",
   "id": "3864ff9c",
   "metadata": {},
   "source": [
    "---"
   ]
  },
  {
   "cell_type": "markdown",
   "id": "0cee021e",
   "metadata": {},
   "source": [
    "# O objetivo principal dos nossos estudos é responder as perguntas abaixo:\n",
    "\n",
    " - **Como diagnostica *alto* ou *baixo* *viés/bias* e *variância*?**\n",
    "   - **Viés/Bias Análise:**\n",
    "     - **Alto viés/bias:**\n",
    "       - O principal indicador de um problema de **viés/bias** é um alto erro de validação.\n",
    "       - Quando nós temos um alto erro no conjunto de treinamento indica que teremos um alto erro viés/bias;\n",
    "     - **Baixo viés/bias:**\n",
    "       - Quando nós temos um baixo erro no conjunto de treinamento indica que teremos um baixo erro de viés/bias;\n",
    "       - Esse baixo erro de viés/bias também está relacionado com o erro de validação.\n",
    "   - **Variância Análise**\n",
    "     - **Alto Variância:**\n",
    "       - Quanto maior a diferença da lacuna (gap), maior a variância.\n",
    "     - **Baixo Variância:**\n",
    "       - Geralmente, quanto mais estreita a lacuna (gap), menor a variância;\n",
    " - **E que ações devemos tomar uma vez que detectamos algo?**\n",
    "    - **Viés/Bias Análise:**\n",
    "     - **Alto viés/bias:**\n",
    "       - x\n",
    "     - **Baixo viés/bias:**\n",
    "       - x\n",
    "    - **Variância Análise**\n",
    "     - **Alto Variância:**\n",
    "       - x\n",
    "     - **Baixo Variância:**\n",
    "       - x\n",
    "\n",
    "---\n",
    "\n",
    "# Resumos Gerais:\n",
    "\n",
    " - ***Aprendizado Supervisionado:***\n",
    "   - No *aprendizado supervisionado*, assumimos que há uma relação real entre os **recursos (features)** e o **destino (variável target)**\n",
    " - ***f* vs. *f<sup>^</sup>*:**\n",
    "   - ***f***:\n",
    "     - É um modelo que que descreve perfeitamente a relação entre **recursos (features)** e o **destino (variável target)**;\n",
    "     - Na prática ***f***,é quase sempre completamente desconhecido.\n",
    "   - ***f<sup>^</sup>***:\n",
    "     - O ***f<sup>^</sup>*** é o resultado da estimação (ou previsão) do modelo ***f***.\n",
    " - **Viés (bias) vs. Variância:**\n",
    "   - **Viés (bias)**:\n",
    "     - x\n",
    "   - **Variância:**\n",
    "     - À medida que mudamos os *conjuntos de treinamento*, obtemos saídas diferentes para ***f<sup>^</sup>***. O **montante** pelo qual **varia** conforme mudamos os conjuntos de treinamento é chamado de **variância**.\n",
    "     - A grande lacuna (gap) e o baixo erro de treinamento também indicam um problema de *overfitting:*\n",
    "       - O overfitting acontece quando o modelo tem um bom desempenho no conjunto de treinamento, mas muito pior no conjunto de teste (ou validação)."
   ]
  },
  {
   "cell_type": "markdown",
   "id": "6dfcc8af",
   "metadata": {},
   "source": [
    "**REFERÊNCIAS:**  \n",
    "[Tutorial: Learning Curves for Machine Learning in Python](https://www.dataquest.io/blog/learning-curves-machine-learning/)  \n",
    "[O que é bias-variance tradeoff](https://medium.com/data-hackers/o-que-%C3%A9-bias-variance-tradeoff-a5bc19866e4b)"
   ]
  }
 ],
 "metadata": {
  "kernelspec": {
   "display_name": "Python 3",
   "language": "python",
   "name": "python3"
  },
  "language_info": {
   "codemirror_mode": {
    "name": "ipython",
    "version": 3
   },
   "file_extension": ".py",
   "mimetype": "text/x-python",
   "name": "python",
   "nbconvert_exporter": "python",
   "pygments_lexer": "ipython3",
   "version": "3.8.8"
  }
 },
 "nbformat": 4,
 "nbformat_minor": 5
}
