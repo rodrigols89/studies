{
 "cells": [
  {
   "cell_type": "markdown",
   "id": "b1615df2",
   "metadata": {},
   "source": [
    "# Stemming\n",
    "\n",
    "## Conteúdo\n",
    "\n",
    " - 01 - Introdução ao Stemming\n",
    " - 02 - Stemming com a biblioteca NLTK"
   ]
  },
  {
   "cell_type": "markdown",
   "id": "c264e762",
   "metadata": {},
   "source": [
    "## 01 - Introdução ao Stemming\n",
    "\n",
    "> No processamento de linguagem natural, **Stemming** é a tarefa de normalização de pré-processamento de texto preocupada com a remoção direta dos *afixos* de palavras *(prefixos e sufixos)*.\n",
    "\n",
    "Por exemplo, o **Stemming** trocaria a palavra **“going”** por **“go”**. Este é um método comum usado por mecanismos de pesquisa para melhorar a correspondência entre a entrada do usuário e os acessos ao site.\n"
   ]
  },
  {
   "cell_type": "markdown",
   "id": "de143502",
   "metadata": {},
   "source": [
    "## 02 - Stemming com a biblioteca NLTK\n",
    "\n",
    "> A biblioteca NLTK tem um Stemming integrado chamado **PorterStemmer**.\n",
    "\n",
    "Na prática nós podemos aplicar o conceito de **Stemming** mais ou menos assim, com a biblioteca **NLTK** e **PorterStemmer**:"
   ]
  },
  {
   "cell_type": "code",
   "execution_count": 1,
   "id": "acb30264",
   "metadata": {},
   "outputs": [
    {
     "name": "stdout",
     "output_type": "stream",
     "text": [
      "['nbc', 'wa', 'found', 'in', '1926', '.', 'thi', 'make', 'nbc', 'the', 'oldest', 'major', 'broadcast', 'network', '.']\n"
     ]
    }
   ],
   "source": [
    "from nltk.stem import PorterStemmer\n",
    "stemmer = PorterStemmer()\n",
    "\n",
    "tokenized = [\n",
    "  'NBC',\n",
    "  'was',\n",
    "  'founded',\n",
    "  'in',\n",
    "  '1926',\n",
    "  '.',\n",
    "  'This',\n",
    "  'makes',\n",
    "  'NBC',\n",
    "  'the',\n",
    "  'oldest',\n",
    "  'major',\n",
    "  'broadcast',\n",
    "  'network',\n",
    "  '.'\n",
    "]\n",
    "\n",
    "stemmed = [stemmer.stem(token) for token in tokenized]\n",
    "print(stemmed)"
   ]
  },
  {
   "cell_type": "markdown",
   "id": "4fdb4c79",
   "metadata": {},
   "source": [
    "**NOTE:**  \n",
    "Opa, mas quais palavras foram aplicadas **Stemming**?\n",
    "\n",
    " - Primeiro, não sei se você reparou, mas todas as letras foram colocadas em minúsculo.\n",
    " - was > wa\n",
    " - founded > found\n",
    " - this > thi\n",
    " - makes > make\n",
    "\n",
    "**NOTE:**  \n",
    "O fato de essas palavras terem sido reduzidas é útil para muitos aplicativos de processamento de linguagem. No entanto, você precisa ter cuidado ao definir o **stemming** das strings, porque as palavras geralmente podem ser convertidas em algo irreconhecível."
   ]
  },
  {
   "cell_type": "markdown",
   "id": "f7ec97e7",
   "metadata": {},
   "source": [
    "---\n",
    "\n",
    "**REFERÊNCIAS:**  \n",
    "[CodeAcademy - Text Preprocessing](https://www.codecademy.com/learn/text-preprocessing)\n",
    "\n",
    "---\n",
    "\n",
    "**Rodrigo Leite -** *drigols*"
   ]
  }
 ],
 "metadata": {
  "kernelspec": {
   "display_name": "Python 3 (ipykernel)",
   "language": "python",
   "name": "python3"
  },
  "language_info": {
   "codemirror_mode": {
    "name": "ipython",
    "version": 3
   },
   "file_extension": ".py",
   "mimetype": "text/x-python",
   "name": "python",
   "nbconvert_exporter": "python",
   "pygments_lexer": "ipython3",
   "version": "3.9.7"
  }
 },
 "nbformat": 4,
 "nbformat_minor": 5
}
