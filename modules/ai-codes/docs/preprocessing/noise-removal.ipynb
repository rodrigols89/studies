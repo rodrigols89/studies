{
 "cells": [
  {
   "cell_type": "markdown",
   "id": "dffed915",
   "metadata": {},
   "source": [
    "# Noise Removal (remoção de ruído)\n",
    "\n",
    "## Conteúdo\n",
    "\n",
    " - 01 - Introdução ao Noise Removal\n",
    " - 02 - Introdução ao método sub() da biblioteca re (regular expression)\n",
    " - 03 - Removendo espaços em branco\n",
    " - 04 - Removendo pontuações"
   ]
  },
  {
   "cell_type": "markdown",
   "id": "6d1e443b",
   "metadata": {},
   "source": [
    "## 01 - Introdução ao Noise Removal\n",
    "\n",
    "> No processamento de linguagem natural, o **Noise Removal (remoção de ruído)** é uma tarefa de pré-processamento de texto dedicada a retirar a formatação do texto.\n",
    "\n",
    "A limpeza de texto é uma técnica que os desenvolvedores usam em vários domínios. Dependendo do objetivo do seu projeto e de onde você obtém seus dados, você pode remover informações indesejadas, como:\n",
    "\n",
    " - Pontuação e acentos;\n",
    " - Caracteres especiais;\n",
    " - Dígitos numéricos;\n",
    " - Espaço em branco inicial, final e vertical\n",
    " - Formatação HTML"
   ]
  },
  {
   "cell_type": "markdown",
   "id": "3104875c",
   "metadata": {},
   "source": [
    "## 02 - Introdução ao método sub() da biblioteca re (regular expression)\n",
    "\n",
    "Removendo informações indesejadas com o método sub()\n",
    "\n",
    "Felizmente, você pode usar o método **.sub()** da rebiblioteca **re (regular expression)** do Python para a maioria das suas necessidades de **Noise Removal (remoção de ruído)**.\n",
    "\n",
    "O método **sub()** tem três argumentos obrigatórios:\n",
    "\n",
    " - **pattern:**\n",
    "   - Uma expressão regular que é pesquisada na string de entrada. Deve haver um **\"r\"** precedente da string para indicar que é uma string bruta, que trata as barras invertidas como caracteres literais.\n",
    " - **replacement_text:**\n",
    "   - Texto que substitui todas as correspondências na string de entrada.\n",
    " - **input:**\n",
    "   - A string de entrada que será editada pelo método **sub()**.\n",
    "\n",
    "O método retorna uma string com todas as instâncias de **pattern** substituídas por **replacement_text**. Vejamos alguns exemplos de como usar esse método para remover e substituir texto de uma string."
   ]
  },
  {
   "cell_type": "markdown",
   "id": "b76dfda1",
   "metadata": {},
   "source": [
    "## 03 - Removendo espaços em branco\n",
    "\n",
    "A seguir, vamos remover o espaço em branco do início de um texto. Para esse nosso primeiro exemplo, vamos excluir 4 espaços em brancos do início de um texto:"
   ]
  },
  {
   "cell_type": "code",
   "execution_count": 1,
   "id": "c0220cc5",
   "metadata": {},
   "outputs": [
    {
     "name": "stdout",
     "output_type": "stream",
     "text": [
      "This is a paragraph\n"
     ]
    }
   ],
   "source": [
    "import re\n",
    "\n",
    "text = \"    This is a paragraph\"\n",
    "result = re.sub(r'\\s{4}', '', text)\n",
    "\n",
    "print(result)"
   ]
  },
  {
   "cell_type": "markdown",
   "id": "01c3e0e3",
   "metadata": {},
   "source": [
    "**NOTE:**  \n",
    "Veja que com o método **sub()** e uma **Expressão Regular** simples nós conseguimos *remover 4 caracteres em branco.*."
   ]
  },
  {
   "cell_type": "markdown",
   "id": "688054fa",
   "metadata": {},
   "source": [
    "## 04 - Removendo pontuações\n",
    "\n",
    "> Ok, mas como eu posso remover pontuações indesejadas?\n",
    "\n",
    "Veja o código abaixo:"
   ]
  },
  {
   "cell_type": "code",
   "execution_count": 2,
   "id": "625dcacf",
   "metadata": {},
   "outputs": [
    {
     "name": "stdout",
     "output_type": "stream",
     "text": [
      "Original text: Five fantastic fish flew off to find faraway functions. Maybe find another five fantastic fish? Find my fish with a function please!\n",
      "Noise Removal:  Five fantastic fish flew off to find faraway functions Maybe find another five fantastic fish Find my fish with a function please\n"
     ]
    }
   ],
   "source": [
    "import re\n",
    " \n",
    "text = \"Five fantastic fish flew off to find faraway functions. Maybe find another five fantastic fish? Find my fish with a function please!\"\n",
    "print(\"Original text:\", text)\n",
    "\n",
    "# Remove punctuation.\n",
    "result = re.sub(r'[\\.\\?\\!\\,\\:\\;\\\"]', '', text)\n",
    "print(\"Noise Removal: \", result)"
   ]
  },
  {
   "cell_type": "markdown",
   "id": "decb68dd",
   "metadata": {},
   "source": [
    "**NOTE:**  \n",
    "Veja que nesse processo simples de **Noise Removal** nós removemos pontuações predefinidas do texto."
   ]
  },
  {
   "cell_type": "markdown",
   "id": "cbf3be06",
   "metadata": {},
   "source": [
    "---\n",
    "\n",
    "**REFERÊNCIAS:**  \n",
    "[CodeAcademy - Text Preprocessing](https://www.codecademy.com/learn/text-preprocessing)\n",
    "\n",
    "---\n",
    "\n",
    "**Rodrigo Leite -** *drigols*"
   ]
  }
 ],
 "metadata": {
  "kernelspec": {
   "display_name": "Python 3 (ipykernel)",
   "language": "python",
   "name": "python3"
  },
  "language_info": {
   "codemirror_mode": {
    "name": "ipython",
    "version": 3
   },
   "file_extension": ".py",
   "mimetype": "text/x-python",
   "name": "python",
   "nbconvert_exporter": "python",
   "pygments_lexer": "ipython3",
   "version": "3.9.7"
  }
 },
 "nbformat": 4,
 "nbformat_minor": 5
}
